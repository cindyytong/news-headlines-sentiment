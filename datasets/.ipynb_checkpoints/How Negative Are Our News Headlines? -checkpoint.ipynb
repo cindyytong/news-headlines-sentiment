{
 "cells": [
  {
   "cell_type": "markdown",
   "id": "1b090caa",
   "metadata": {},
   "source": [
    "# How Negative Are Our News Headlines?\n",
    "\n",
    "An analysis of nearly 1 million news headlines across ten companies over the period of 2007 to 2023 "
   ]
  },
  {
   "cell_type": "code",
   "execution_count": null,
   "id": "f80efe2e",
   "metadata": {
    "pycharm": {
     "is_executing": true
    }
   },
   "outputs": [],
   "source": [
    "from matplotlib import pyplot as plt\n",
    "\n",
    "# x axis represents years from 2007 - 2023\n",
    "x = [2007, 2008, 2009, 2010, 2011, 2012, 2013, 2014, 2015, 2016, 2017, 2018, 2019, 2020, 2021, 2022]\n",
    "\n",
    "nytimes = [54.98095316396722, 54.20718232044199, 56.22802197802198, 55.276712328767125, 54.53972602739726, 53.972527472527474, 54.70391061452514, 56.058203266282725, 55.77900552486188, 56.532967032967036, 57.558899613362634, 57.96013555369311, 54.203630408079704, 56.965552178318134, 58.22507097995354, 51.65600225361182]\n",
    "cnn = [59.69362129583124, 59.54116059379217, 58.1217985202049, 56.683458294283035, 52.88566085330318, 55.661717596590435, 58.57013425582736, 57.28493150684932, 55.98206041419338, 56.49345497818326, 55.881435257410295, 93.25581395348837, 59.22974767596281, 54.83889267075108, 58.013909105612164, 58.40549417736638]\n",
    "fox = [62.88416075650118, 49.310271646859086, 49.84607026439696, 53.418287011607894, 53.08127418874665, 54.033144980848725, 58.17032040472176, 58.154129361559704, 58.32561422081073, 57.87918730966774, 57.40681362725451, 58.98587570621469, 59.466554316826546, 56.706962090339374, 57.805290935041654, 58.37796480489671]\n",
    "washpost = [61.459180905885546, 59.1084223333784, 56.044077134986225, 54.814639346203954, 55.692919512405986, 58.087671232876716, 56.772602739726025, 58.54545454545455, 58.45904116873303, 57.1779581469825, 57.16791763724729, 58.92245664420634, 60.1438532916049, 58.167767394700064, 60.73076923076923, 59.60643309083814]\n",
    "cnbc = [61.3837805245704, 60.211424002842676, 56.57967032967033, 57.81666666666667, 58.32142857142857, 56.912328767123284, 58.46978021978022, 59.843835616438355, 54.0442390227798, 46.97078082870192, 48.46286985906206,48.84022038567493, 49.74550548680831, 48.48890589135425, 49.34085435416402, 48.60872762932091]\n",
    "guardian = [55.0, 55.0, 55.0, 55.0, 55.0, 55.0, 55.18513420509291, 55.876271606980396, 53.556636553161916, 53.66208791208791, 52.23480662983425, 52.59228650137741, 53.26373626373626, 51.25207756232687, 53.69060773480663]\n",
    "\n",
    "# Function to plot\n",
    "plt.plot(x, nytimes, label=\"New York Times\")\n",
    "plt.plot(x, cnn, label=\"CNN\")\n",
    "plt.plot(x, fox, label=\"FOX\")\n",
    "plt.plot(x, washpost, label=\"Washington Post\")\n",
    "plt.plot(x, cnbc, label=\"CNBC\")\n",
    "plt.plot(x, guardian, label=\"The Guardian\")\n",
    "\n",
    "\n",
    "# Add legend\n",
    "plt.legend(bbox_to_anchor=(1.05, 1), loc='upper left', borderaxespad=0)\n",
    "# Add title and x, y labels\n",
    "plt.title('How Negative Are Our News Headlines', fontsize=16, fontweight='bold')\n",
    "\n",
    "plt.xlabel(\"Year\")\n",
    "plt.ylabel(\"% Headlines with Negative Sentiment\")\n",
    "plt.show()\n"
   ]
  },
  {
   "cell_type": "code",
   "execution_count": null,
   "id": "1c77bdda",
   "metadata": {},
   "outputs": [],
   "source": []
  }
 ],
 "metadata": {
  "kernelspec": {
   "display_name": "Python 3 (ipykernel)",
   "language": "python",
   "name": "python3"
  },
  "language_info": {
   "codemirror_mode": {
    "name": "ipython",
    "version": 3
   },
   "file_extension": ".py",
   "mimetype": "text/x-python",
   "name": "python",
   "nbconvert_exporter": "python",
   "pygments_lexer": "ipython3",
   "version": "3.10.10"
  }
 },
 "nbformat": 4,
 "nbformat_minor": 5
}
